{
 "cells": [
  {
   "cell_type": "code",
   "execution_count": 2,
   "metadata": {},
   "outputs": [],
   "source": [
    "import numpy as np\n",
    "import pandas as pd\n",
    "import matplotlib.pyplot as plt\n",
    "import seaborn as sns"
   ]
  },
  {
   "cell_type": "code",
   "execution_count": null,
   "metadata": {},
   "outputs": [],
   "source": [
    "df[\"MSSubClass\"] = df[\"MSSubClass\"].astype(str)"
   ]
  },
  {
   "cell_type": "code",
   "execution_count": null,
   "metadata": {},
   "outputs": [],
   "source": [
    "g1 = sns.catplot(x=df[\"MSSubClass\"], y =df[\"SalePrice\"], data = df, kind = \"box\")\n",
    "g1.set_xticklabels([\"2-STORY 1946 & NEWER\",\"1-STORY 1946 & NEWER ALL STYLES\",\"2-STORY 1945 & OLDER\",\"1-1/2 STORY FINISHED ALL AGES\",\"2 FAMILY CONVERSION - ALL STYLES AND AGES\",\"1-1/2 STORY - UNFINISHED ALL AGES\",\"DUPLEX - ALL STYLES AND AGES\",\"1-STORY PUD (Planned Unit Development) - 1946 & NEWER\",\"1-STORY 1945 & OLDER\",\"SPLIT FOYER\",\"SPLIT OR MULTI-LEVEL\",\"2-STORY PUD - 1946 & NEWER\",\"2-1/2 STORY ALL AGES\",\"PUD - MULTILEVEL - INCL SPLIT LEV/FOYER\",\"1-STORY W/FINISHED ATTIC ALL AGES\"])\n",
    "g1.fig.suptitle(\"Type of the dwelling\", x = 0.6, y = 1.04)\n",
    "g1.set(xlabel=\"Type\", ylabel=\"Price\")\n",
    "plt.xticks(rotation=90)\n",
    "plt.show()"
   ]
  },
  {
   "cell_type": "code",
   "execution_count": null,
   "metadata": {},
   "outputs": [],
   "source": [
    "for i in range(len(df[\"MSSubClass\"])):\n",
    "    if df.at[i,\"MSSubClass\"]==20:\n",
    "        df.at[i,\"MSSubClass\"] = 10"
   ]
  },
  {
   "cell_type": "code",
   "execution_count": null,
   "metadata": {},
   "outputs": [],
   "source": [
    "df[\"MSSubClass\"]"
   ]
  },
  {
   "cell_type": "code",
   "execution_count": null,
   "metadata": {},
   "outputs": [],
   "source": [
    "g2 = sns.catplot(x=df[\"MSZoning\"], y =df[\"SalePrice\"], data = df, kind = \"box\")\n",
    "g2.fig.suptitle(\"General Zoning Classification\", x = 0.6, y = 1.04)\n",
    "g2.set_xticklabels(['Residential Low Density','Residential Medium Density','Commercial','Floating Village Residential',\"Residential High Density\"])\n",
    "g2.set(xlabel=\"Zone Class\", ylabel=\"Price\")\n",
    "plt.xticks(rotation = 90)\n",
    "plt.show()"
   ]
  },
  {
   "cell_type": "code",
   "execution_count": null,
   "metadata": {},
   "outputs": [],
   "source": [
    "df[\"LotFrontage\"].fillna(0, inplace = True)\n",
    "g3 = sns.relplot(x=df[\"LotFrontage\"], y =df[\"SalePrice\"], data = df, kind = \"scatter\", alpha = 0.2)\n",
    "g3.fig.suptitle(\"Linear Feet of Street Connected to Property\", x = 0.6, y = 1.04)\n",
    "g3.set(xlabel=\"Feet\", ylabel=\"Price\")\n",
    "plt.show()"
   ]
  },
  {
   "cell_type": "code",
   "execution_count": null,
   "metadata": {},
   "outputs": [],
   "source": [
    "g4 = sns.relplot(x=df[\"LotArea\"], y =df[\"SalePrice\"], data = df, kind = \"scatter\", alpha = 0.2)\n",
    "g4.fig.suptitle(\"Lot size\", x = 0.6, y = 1.04)\n",
    "g4.set(xlabel=\"Size (in square feet)\", ylabel=\"Price\")\n",
    "plt.show()"
   ]
  },
  {
   "cell_type": "code",
   "execution_count": null,
   "metadata": {},
   "outputs": [],
   "source": [
    "g5 = sns.catplot(x=df[\"Street\"], y =df[\"SalePrice\"], data = df, kind = \"box\")\n",
    "g5.fig.suptitle(\"Type of Road Access to Property\", x = 0.6, y = 1.04)\n",
    "g5.set_xticklabels([\"Paved\",\"Gravel\"])\n",
    "g5.set(xlabel=\"Type\", ylabel=\"Price\")\n",
    "plt.show()"
   ]
  },
  {
   "cell_type": "code",
   "execution_count": null,
   "metadata": {},
   "outputs": [],
   "source": [
    "df[\"Alley\"].fillna(\"No Access\", inplace = True)\n",
    "g6 = sns.catplot(x=df[\"Alley\"], y =df[\"SalePrice\"], data = df, kind = \"box\")\n",
    "g6.fig.suptitle(\"Type of Alley Access to Property\", x = 0.6, y = 1.04)\n",
    "g6.set_xticklabels([\"No Access\",\"Gravel\",\"Paved\"])\n",
    "g6.set(xlabel=\"Type\", ylabel=\"Price\")\n",
    "plt.show()"
   ]
  },
  {
   "cell_type": "code",
   "execution_count": null,
   "metadata": {},
   "outputs": [],
   "source": [
    "g7 = sns.catplot(x=df[\"LotShape\"], y =df[\"SalePrice\"], data = df, kind = \"box\")\n",
    "g7.fig.suptitle(\"General Shape of Property\", x = 0.6, y = 1.04)\n",
    "g7.set_xticklabels([\"Regular\",\"Slightly Irregular\",\"Moderately Irregular\",\"Irregular\"])\n",
    "g7.set(xlabel=\"Shape\", ylabel=\"Price\")\n",
    "plt.xticks(rotation=90)\n",
    "plt.show()"
   ]
  },
  {
   "cell_type": "code",
   "execution_count": null,
   "metadata": {},
   "outputs": [],
   "source": [
    "g8 = sns.catplot(x=df[\"LandContour\"], y =df[\"SalePrice\"], data = df, kind = \"box\")\n",
    "g8.fig.suptitle(\"Flatness of The Property\", x = 0.6, y = 1.04)\n",
    "g8.set(xlabel=\"Flatness\", ylabel=\"Price\")\n",
    "g8.set_xticklabels([\"Near Flat/Level\",\"Banked - Quick and significant rise from street grade to building\",\"Depression\",\"Hillside - Significant slope from side to side\"])\n",
    "plt.xticks(rotation=90)\n",
    "plt.show()"
   ]
  },
  {
   "cell_type": "code",
   "execution_count": null,
   "metadata": {},
   "outputs": [],
   "source": [
    "g9 = sns.catplot(x=df[\"Utilities\"], y =df[\"SalePrice\"], data = df, kind = \"box\")\n",
    "g9.fig.suptitle(\"Type of Utilities Available\", x = 0.6, y = 1.04)\n",
    "g9.set_xticklabels([\"All public Utilities\",\"Electricity and Gas Only\"])\n",
    "g9.set(xlabel=\"Utilities\", ylabel=\"Price\")\n",
    "plt.show()"
   ]
  },
  {
   "cell_type": "code",
   "execution_count": null,
   "metadata": {},
   "outputs": [],
   "source": [
    "g10 = sns.catplot(x=df[\"LotConfig\"], y =df[\"SalePrice\"], data = df, kind = \"box\")\n",
    "g10.fig.suptitle(\"Lot Configuration\", x = 0.6, y = 1.04)\n",
    "g10.set(xlabel=\"Configuration\", ylabel=\"Price\")\n",
    "g10.set_xticklabels([\"Inside\",\"Frontage on 2 sides of property\",\"Corner lot\",\"Cul-de-sac\",\"Frontage on 3 sides of property\"])\n",
    "plt.xticks(rotation=90)\n",
    "plt.show()"
   ]
  },
  {
   "cell_type": "code",
   "execution_count": null,
   "metadata": {},
   "outputs": [],
   "source": [
    "g11 = sns.catplot(x=df[\"LandSlope\"], y =df[\"SalePrice\"], data = df, kind = \"box\")\n",
    "g11.fig.suptitle(\"Slope of Property\", x = 0.6, y = 1.04)\n",
    "g11.set(xlabel=\"Slope\", ylabel=\"Price\")\n",
    "g11.set_xticklabels([\"Gentle slope\",\"Moderate Slope\",\"Severe Slope\"])\n",
    "plt.show()"
   ]
  },
  {
   "cell_type": "code",
   "execution_count": null,
   "metadata": {},
   "outputs": [],
   "source": [
    "g12 = sns.catplot(x=df[\"Neighborhood\"], y =df[\"SalePrice\"], data = df, kind = \"box\")\n",
    "g12.fig.suptitle(\"Physical Neighbourhood\", x = 0.6, y = 1.04)\n",
    "g12.set(xlabel=\"Neighbourhood\", ylabel=\"Price\")\n",
    "g12.set_xticklabels([\"College Creek\",\"Veenker\",\"Crawford\",\"Northridge\",\"Mitchell\",\"Somerset\",\"Northwest Ames\",\"Old Town\",\"Brookside\",\"Sawyer\",\"Northridge Heights\",\"North Ames\",\"Sawyer West\",\"Iowa DOT and Rail Road\",\"Meadow Village\",\"Edwards\",\"Timberland\",\"Gilbert\",\"Stone Brook\",\"Clear Creek\",\"Northpark Villa\",\"Bloomington Heights\",\"Briardale\",\"South & West of Iowa State University\",\"Bluestem\"])\n",
    "plt.xticks(rotation=90)\n",
    "plt.show()"
   ]
  },
  {
   "cell_type": "code",
   "execution_count": null,
   "metadata": {},
   "outputs": [],
   "source": [
    "g13 = sns.catplot(x=df[\"Condition1\"], y =df[\"SalePrice\"], data = df, kind = \"box\")\n",
    "g13.fig.suptitle(\"Proximity To Various Conditions\", x = 0.6, y = 1.04)\n",
    "g13.set(xlabel=\"Conditions\", ylabel=\"Price\")\n",
    "g13.set_xticklabels([\"Normal\",\"Adjacent to feeder street\",\"Near positive off-site feature\",\"Adjacent to arterial street\",\"Adjacent to East-West Railroad\",\"Within 200' of North-South Railroad\",\"Adjacent to North-South Railroad\",\"Adjacent to postive off-site feature\",\"Within 200' of East-West Railroad\"])\n",
    "plt.xticks(rotation=90)\n",
    "plt.show()"
   ]
  },
  {
   "cell_type": "code",
   "execution_count": null,
   "metadata": {},
   "outputs": [],
   "source": [
    "g14 = sns.catplot(x=df[\"Condition2\"], y =df[\"SalePrice\"], data = df, kind = \"box\")\n",
    "g14.fig.suptitle(\"Proximity To Various Conditions (if more than one is present)\", x = 0.6, y = 1.04)\n",
    "g14.set(xlabel=\"Conditions\", ylabel=\"Price\")\n",
    "g14.set_xticklabels([\"Normal\",\"Adjacent to arterial street\",\"Within 200' of North-South Railroad\",\"Adjacent to feeder street\",\"Near positive off-site feature\",\"Adjacent to postive off-site feature\",\"Adjacent to North-South Railroad\",\"Adjacent to East-West Railroad\"])\n",
    "plt.xticks(rotation=90)\n",
    "plt.show()"
   ]
  },
  {
   "cell_type": "code",
   "execution_count": null,
   "metadata": {},
   "outputs": [],
   "source": [
    "g15 = sns.catplot(x=df[\"BldgType\"], y =df[\"SalePrice\"], data = df, kind = \"box\")\n",
    "g15.fig.suptitle(\"Type of Dwelling\", x = 0.6, y = 1.04)\n",
    "g15.set(xlabel=\"Type\", ylabel=\"Price\")\n",
    "g15.set_xticklabels([\"Single-family Detached\",\"Two-family Conversion; originally built as one-family dwelling\",\"Duplex\",\"Townhouse End Unit\",\"Townhouse Inside Unit\"])\n",
    "plt.xticks(rotation=90)\n",
    "plt.show()"
   ]
  },
  {
   "cell_type": "code",
   "execution_count": null,
   "metadata": {},
   "outputs": [],
   "source": [
    "g16 = sns.catplot(x=df[\"HouseStyle\"], y =df[\"SalePrice\"], data = df, kind = \"box\")\n",
    "g16.fig.suptitle(\"Style of Dwelling\", x = 0.6, y = 1.04)\n",
    "g16.set(xlabel=\"Style\", ylabel=\"Price\")\n",
    "g16.set_xticklabels([\"Two story\",\"One story\",\"One and one-half story: 2nd level finished\",\"One and one-half story: 2nd level unfinished\",\"Split Foyer\",\"Split Level\",\"Two and one-half story: 2nd level unfinished\",\"Two and one-half story: 2nd level finished\"])\n",
    "plt.xticks(rotation=90)\n",
    "plt.show()"
   ]
  },
  {
   "cell_type": "code",
   "execution_count": null,
   "metadata": {},
   "outputs": [],
   "source": [
    "g17 = sns.catplot(x=df[\"OverallQual\"], y =df[\"SalePrice\"], data = df, kind = \"box\")\n",
    "g17.fig.suptitle(\"Rates of The Overall Material of The House\", x = 0.6, y = 1.04)\n",
    "g17.set(xlabel=\"Rate\", ylabel=\"Price\")\n",
    "plt.show()"
   ]
  },
  {
   "cell_type": "code",
   "execution_count": null,
   "metadata": {},
   "outputs": [],
   "source": [
    "g18 = sns.catplot(x=df[\"OverallCond\"], y =df[\"SalePrice\"], data = df, kind = \"box\")\n",
    "g18.fig.suptitle(\"Rates of The Overall Condition of The House\", x = 0.6, y = 1.04)\n",
    "g18.set(xlabel=\"Rate\", ylabel=\"Price\")\n",
    "plt.show()"
   ]
  },
  {
   "cell_type": "code",
   "execution_count": null,
   "metadata": {},
   "outputs": [],
   "source": [
    "g19 = sns.relplot(x = df[\"YearBuilt\"], y = df[\"SalePrice\"], data = df, kind = \"scatter\", alpha = 0.2)\n",
    "g19.fig.suptitle(\"Original Construction Date\", x = 0.6, y = 1.04)\n",
    "g19.set(xlabel=\"Year\", ylabel=\"Price\")\n",
    "plt.show()"
   ]
  },
  {
   "cell_type": "code",
   "execution_count": null,
   "metadata": {},
   "outputs": [],
   "source": [
    "g20 = sns.relplot(x = df[\"YearRemodAdd\"], y = df[\"SalePrice\"], data = df, kind = \"scatter\", alpha = 0.2)\n",
    "g20.fig.suptitle(\"Remodel Date\", x = 0.6, y = 1.04)\n",
    "g20.set(xlabel=\"Year\", ylabel=\"Price\")\n",
    "plt.show()"
   ]
  },
  {
   "cell_type": "code",
   "execution_count": null,
   "metadata": {},
   "outputs": [],
   "source": [
    "g21 = sns.catplot(x=df[\"RoofStyle\"], y =df[\"SalePrice\"], data = df, kind = \"box\")\n",
    "g21.fig.suptitle(\"Type of Roof\", x = 0.6, y = 1.04)\n",
    "g21.set(xlabel=\"Type\", ylabel=\"Price\")\n",
    "plt.show()"
   ]
  },
  {
   "cell_type": "code",
   "execution_count": null,
   "metadata": {},
   "outputs": [],
   "source": [
    "g22 = sns.catplot(x=df[\"RoofMatl\"], y =df[\"SalePrice\"], data = df, kind = \"box\")\n",
    "g22.fig.suptitle(\"Roof Material\", x = 0.6, y = 1.04)\n",
    "g22.set(xlabel=\"Material\", ylabel=\"Price\")\n",
    "g22.set_xticklabels([\"Composite Shingle\",\"Wood Shingles\",\"Metal\",\"Wood Shakes\",\"Membrane\",\"Gravel & Tar\",\"Roll\",\"Clay or Tile\"])\n",
    "plt.xticks(rotation=90)\n",
    "plt.show()"
   ]
  },
  {
   "cell_type": "code",
   "execution_count": null,
   "metadata": {},
   "outputs": [],
   "source": [
    "g23 = sns.catplot(x=df[\"Exterior1st\"], y =df[\"SalePrice\"], data = df, kind = \"box\")\n",
    "g23.fig.suptitle(\"Exterior Covering On House\", x = 0.6, y = 1.04)\n",
    "g23.set(xlabel=\"Material\", ylabel=\"Price\")\n",
    "g23.set_xticklabels([\"Vinyl Siding\",\"Metal Siding\",\"Wood Siding\",\"Hard Board\",\"Brick Face\",\"Wood Shingles\",\"Cement Board\",\"Plywood\",\"Asbestos Shingles\",\"Stucco\",\"Brick Common\",\"Asphalt Shingles\",\"Stone\",\"Imitation Stucco\",\"Cinder Block\"])\n",
    "plt.xticks(rotation=90)\n",
    "plt.show()"
   ]
  },
  {
   "cell_type": "code",
   "execution_count": null,
   "metadata": {},
   "outputs": [],
   "source": [
    "g24 = sns.catplot(x=df[\"Exterior2nd\"], y =df[\"SalePrice\"], data = df, kind = \"box\")\n",
    "g24.fig.suptitle(\"Exterior Covering On House (if more than one material)\", x = 0.6, y = 1.04)\n",
    "g24.set(xlabel=\"Material\", ylabel=\"Price\")\n",
    "g24.set_xticklabels([\"Vinyl Siding\",\"Metal Siding\",\"Wood Siding\",\"Hard Board\",\"Plywood\",\"Wood Siding\",\"Cement Board\",\"Brick Face\",\"Stucco\",\"Asbestos Shingles\",\"Brick Common\",\"Imitation Stucco\",\"Asphalt Shingles\",\"Stone\",\"Other\",\"Cinder Block\"])\n",
    "plt.xticks(rotation=90)\n",
    "plt.show()"
   ]
  },
  {
   "cell_type": "code",
   "execution_count": null,
   "metadata": {},
   "outputs": [],
   "source": [
    "g25 = sns.catplot(x=df[\"MasVnrType\"], y =df[\"SalePrice\"], data = df, kind = \"box\")\n",
    "g25.fig.suptitle(\"Masonry Veneer Type\", x = 0.6, y = 1.04)\n",
    "g25.set(xlabel=\"Type\", ylabel=\"Price\")\n",
    "g25.set_xticklabels([\"Brick Face\",\"None\",\"Stone\",\"Brick Common\"])\n",
    "plt.xticks(rotation=90)\n",
    "plt.show()"
   ]
  },
  {
   "cell_type": "code",
   "execution_count": null,
   "metadata": {},
   "outputs": [],
   "source": [
    "g26 = sns.relplot(x = df[\"MasVnrArea\"], y = df[\"SalePrice\"], data = df, kind = \"scatter\", alpha = 0.2)\n",
    "g26.fig.suptitle(\"Masonry Veneer Area\", x = 0.6, y = 1.04)\n",
    "g26.set(xlabel=\"Area (in square feet)\", ylabel=\"Price\")\n",
    "plt.show()"
   ]
  },
  {
   "cell_type": "code",
   "execution_count": null,
   "metadata": {},
   "outputs": [],
   "source": [
    "g27 = sns.catplot(x=df[\"ExterQual\"], y =df[\"SalePrice\"], data = df, kind = \"box\")\n",
    "g27.fig.suptitle(\"The Quality of The Material On The Exterior\", x = 0.6, y = 1.04)\n",
    "g27.set(xlabel=\"Quality\", ylabel=\"Price\")\n",
    "g27.set_xticklabels([\"Good\",\"Average\",\"Excellent\",\"Fair\"])\n",
    "plt.show()"
   ]
  },
  {
   "cell_type": "code",
   "execution_count": null,
   "metadata": {},
   "outputs": [],
   "source": [
    "g28 = sns.catplot(x=df[\"ExterCond\"], y =df[\"SalePrice\"], data = df, kind = \"box\")\n",
    "g28.fig.suptitle(\"The Condition of The Material On The Exterior\", x = 0.6, y = 1.04)\n",
    "g28.set(xlabel=\"Condition\", ylabel=\"Price\")\n",
    "g28.set_xticklabels([\"Average\",\"Good\",\"Fair\",\"Poor\",\"Excellent\"])\n",
    "plt.show()"
   ]
  },
  {
   "cell_type": "code",
   "execution_count": null,
   "metadata": {},
   "outputs": [],
   "source": [
    "g29 = sns.catplot(x=df[\"Foundation\"], y =df[\"SalePrice\"], data = df, kind = \"box\")\n",
    "g29.fig.suptitle(\"Type of Foundation\", x = 0.6, y = 1.04)\n",
    "g29.set(xlabel=\"Type\", ylabel=\"Price\")\n",
    "g29.set_xticklabels([\"Poured Contrete\",\"Cinder Block\",\"Brick & Tile\",\"Wood\",\"Slab\",\"Stone\"])\n",
    "plt.xticks(rotation=90)\n",
    "plt.show()"
   ]
  },
  {
   "cell_type": "code",
   "execution_count": null,
   "metadata": {},
   "outputs": [],
   "source": [
    "df[\"BsmtQual\"].fillna(\"No Basement\", inplace = True)\n",
    "g30 = sns.catplot(x=df[\"BsmtQual\"], y =df[\"SalePrice\"], data = df, kind = \"box\")\n",
    "g30.fig.suptitle(\"The Height of The Basement\", x = 0.6, y = 1.04)\n",
    "g30.set(xlabel=\"Height Satisfactory\", ylabel=\"Price\")\n",
    "g30.set_xticklabels([\"Good\",\"Average\",\"Excellent\",\"No Basement\",\"Fair\"])\n",
    "plt.xticks(rotation=90)\n",
    "plt.show()"
   ]
  },
  {
   "cell_type": "code",
   "execution_count": null,
   "metadata": {},
   "outputs": [],
   "source": [
    "df[\"BsmtCond\"].fillna(\"No Basement\", inplace = True)\n",
    "g31 = sns.catplot(x=df[\"BsmtCond\"], y =df[\"SalePrice\"], data = df, kind = \"box\")\n",
    "g31.fig.suptitle(\"The Condition of The Basement\", x = 0.6, y = 1.04)\n",
    "g31.set(xlabel=\"Condition\", ylabel=\"Price\")\n",
    "g31.set_xticklabels([\"Average\",\"Good\",\"No Basement\",\"Fair\",\"Poor\"])\n",
    "plt.xticks(rotation=90)\n",
    "plt.show()"
   ]
  },
  {
   "cell_type": "code",
   "execution_count": null,
   "metadata": {},
   "outputs": [],
   "source": [
    "df[\"BsmtExposure\"].fillna(\"No Basement\", inplace = True)\n",
    "g32 = sns.catplot(x=df[\"BsmtExposure\"], y =df[\"SalePrice\"], data = df, kind = \"box\")\n",
    "g32.fig.suptitle(\"Walkout or Garden Level Walls\", x = 0.6, y = 1.04)\n",
    "g32.set(xlabel=\"State\", ylabel=\"Price\")\n",
    "g32.set_xticklabels([\"No Exposure\",\"Good Exposure\",\"Minimum Exposure\",\"Average Exposure\",\"No Basement\"])\n",
    "plt.xticks(rotation=90)\n",
    "plt.show()"
   ]
  },
  {
   "cell_type": "code",
   "execution_count": null,
   "metadata": {},
   "outputs": [],
   "source": [
    "df[\"BsmtFinType1\"].fillna(\"No Basement\", inplace = True)\n",
    "g33 = sns.catplot(x=df[\"BsmtFinType1\"], y =df[\"SalePrice\"], data = df, kind = \"box\")\n",
    "g33.fig.suptitle(\"Rating of Basement Finished Area (First)\", x = 0.6, y = 1.04)\n",
    "g33.set(xlabel=\"Rating\", ylabel=\"Price\")\n",
    "g33.set_xticklabels([\"Good Living Quarters\",\"Average Living Quarters\",\"Unfinished\",\"Average Rec Room\",\"Below Average Living Quarters\",\"No Basement\",\"Low Quality\"])\n",
    "plt.xticks(rotation=90)\n",
    "plt.show()"
   ]
  },
  {
   "cell_type": "code",
   "execution_count": null,
   "metadata": {},
   "outputs": [],
   "source": [
    "g34 = sns.relplot(x = df[\"BsmtFinSF1\"], y = df[\"SalePrice\"], data = df, kind = \"scatter\", alpha = 0.2)\n",
    "g34.fig.suptitle(\"First Basement Finished Area\", x = 0.6, y = 1.04)\n",
    "g34.set(xlabel=\"Area (in square feet)\", ylabel=\"Price\")\n",
    "plt.show()"
   ]
  },
  {
   "cell_type": "code",
   "execution_count": null,
   "metadata": {},
   "outputs": [],
   "source": [
    "df[\"BsmtFinType2\"].fillna(\"No Basement\", inplace = True)\n",
    "g35 = sns.catplot(x=df[\"BsmtFinType2\"], y =df[\"SalePrice\"], data = df, kind = \"box\")\n",
    "g35.fig.suptitle(\"Rating of Basement Finished Area (If Multiple Types)\", x = 0.6, y = 1.04)\n",
    "g35.set(xlabel=\"Rating\", ylabel=\"Price\")\n",
    "g35.set_xticklabels([\"Unfinished\",\"Below Average Living Quarters\",\"No Basement\",\"Average Living Quarters\",\"Average Rec Room\",\"Low Quality\",\"Good Living Quarters\"])\n",
    "plt.xticks(rotation=90)\n",
    "plt.show()"
   ]
  },
  {
   "cell_type": "code",
   "execution_count": null,
   "metadata": {},
   "outputs": [],
   "source": [
    "g36 = sns.relplot(x = df[\"BsmtFinSF2\"], y = df[\"SalePrice\"], data = df, kind = \"scatter\", alpha = 0.2)\n",
    "g36.fig.suptitle(\"Multiple Basement Finished Area\", x = 0.6, y = 1.04)\n",
    "g36.set(xlabel=\"Area (in square feet)\", ylabel=\"Price\")\n",
    "plt.show()"
   ]
  },
  {
   "cell_type": "code",
   "execution_count": null,
   "metadata": {},
   "outputs": [],
   "source": [
    "g37 = sns.relplot(x = df[\"BsmtUnfSF\"], y = df[\"SalePrice\"], data = df, kind = \"scatter\", alpha = 0.2)\n",
    "g37.fig.suptitle(\"Unfinished Square Feet of Basement Area\", x = 0.6, y = 1.04)\n",
    "g37.set(xlabel=\"Area\", ylabel=\"Price\")\n",
    "plt.show()"
   ]
  },
  {
   "cell_type": "code",
   "execution_count": null,
   "metadata": {},
   "outputs": [],
   "source": [
    "g38 = sns.relplot(x = df[\"TotalBsmtSF\"], y = df[\"SalePrice\"], data = df, kind = \"scatter\", alpha = 0.2)\n",
    "g38.fig.suptitle(\"Total Square Feet of Basement Area\", x = 0.6, y = 1.04)\n",
    "g38.set(xlabel=\"Area\", ylabel=\"Price\")\n",
    "plt.show()"
   ]
  }
 ],
 "metadata": {
  "kernelspec": {
   "display_name": "Python 3",
   "language": "python",
   "name": "python3"
  },
  "language_info": {
   "codemirror_mode": {
    "name": "ipython",
    "version": 3
   },
   "file_extension": ".py",
   "mimetype": "text/x-python",
   "name": "python",
   "nbconvert_exporter": "python",
   "pygments_lexer": "ipython3",
   "version": "3.9.1"
  }
 },
 "nbformat": 4,
 "nbformat_minor": 4
}
